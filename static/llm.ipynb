{
 "cells": [
  {
   "cell_type": "code",
   "execution_count": 1,
   "metadata": {},
   "outputs": [
    {
     "name": "stderr",
     "output_type": "stream",
     "text": [
      "  error: subprocess-exited-with-error\n",
      "  \n",
      "  × python setup.py bdist_wheel did not run successfully.\n",
      "  │ exit code: 1\n",
      "  ╰─> [6 lines of output]\n",
      "      Traceback (most recent call last):\n",
      "        File \"<string>\", line 2, in <module>\n",
      "        File \"<pip-setuptools-caller>\", line 34, in <module>\n",
      "        File \"C:\\Users\\diyas\\AppData\\Local\\Temp\\pip-install-i7jwb5in\\pytorch_3ab269a2c5494229b7cf397f54dd1ea5\\setup.py\", line 15, in <module>\n",
      "          raise Exception(message)\n",
      "      Exception: You tried to install \"pytorch\". The package named for PyTorch is \"torch\"\n",
      "      [end of output]\n",
      "  \n",
      "  note: This error originates from a subprocess, and is likely not a problem with pip.\n",
      "  ERROR: Failed building wheel for pytorch\n",
      "ERROR: Could not build wheels for pytorch, which is required to install pyproject.toml-based projects\n"
     ]
    },
    {
     "name": "stdout",
     "output_type": "stream",
     "text": [
      "Collecting pytorch\n",
      "  Downloading pytorch-1.0.2.tar.gz (689 bytes)\n",
      "  Preparing metadata (setup.py): started\n",
      "  Preparing metadata (setup.py): finished with status 'done'\n",
      "Building wheels for collected packages: pytorch\n",
      "  Building wheel for pytorch (setup.py): started\n",
      "  Building wheel for pytorch (setup.py): finished with status 'error'\n",
      "  Running setup.py clean for pytorch\n",
      "Failed to build pytorch\n",
      "Requirement already satisfied: transformers in c:\\users\\diyas\\miniconda3\\envs\\pyenv\\lib\\site-packages (4.34.1)\n",
      "Requirement already satisfied: filelock in c:\\users\\diyas\\miniconda3\\envs\\pyenv\\lib\\site-packages (from transformers) (3.13.0)\n",
      "Requirement already satisfied: huggingface-hub<1.0,>=0.16.4 in c:\\users\\diyas\\miniconda3\\envs\\pyenv\\lib\\site-packages (from transformers) (0.17.3)\n",
      "Requirement already satisfied: numpy>=1.17 in c:\\users\\diyas\\miniconda3\\envs\\pyenv\\lib\\site-packages (from transformers) (1.26.0)\n",
      "Requirement already satisfied: packaging>=20.0 in c:\\users\\diyas\\miniconda3\\envs\\pyenv\\lib\\site-packages (from transformers) (23.1)\n",
      "Requirement already satisfied: pyyaml>=5.1 in c:\\users\\diyas\\miniconda3\\envs\\pyenv\\lib\\site-packages (from transformers) (6.0)\n",
      "Requirement already satisfied: regex!=2019.12.17 in c:\\users\\diyas\\miniconda3\\envs\\pyenv\\lib\\site-packages (from transformers) (2023.10.3)\n",
      "Requirement already satisfied: requests in c:\\users\\diyas\\miniconda3\\envs\\pyenv\\lib\\site-packages (from transformers) (2.31.0)\n",
      "Requirement already satisfied: tokenizers<0.15,>=0.14 in c:\\users\\diyas\\miniconda3\\envs\\pyenv\\lib\\site-packages (from transformers) (0.14.1)\n",
      "Requirement already satisfied: safetensors>=0.3.1 in c:\\users\\diyas\\miniconda3\\envs\\pyenv\\lib\\site-packages (from transformers) (0.4.0)\n",
      "Requirement already satisfied: tqdm>=4.27 in c:\\users\\diyas\\miniconda3\\envs\\pyenv\\lib\\site-packages (from transformers) (4.66.1)\n",
      "Requirement already satisfied: fsspec in c:\\users\\diyas\\miniconda3\\envs\\pyenv\\lib\\site-packages (from huggingface-hub<1.0,>=0.16.4->transformers) (2023.10.0)\n",
      "Requirement already satisfied: typing-extensions>=3.7.4.3 in c:\\users\\diyas\\miniconda3\\envs\\pyenv\\lib\\site-packages (from huggingface-hub<1.0,>=0.16.4->transformers) (4.7.1)\n",
      "Requirement already satisfied: colorama in c:\\users\\diyas\\miniconda3\\envs\\pyenv\\lib\\site-packages (from tqdm>=4.27->transformers) (0.4.6)\n",
      "Requirement already satisfied: charset-normalizer<4,>=2 in c:\\users\\diyas\\miniconda3\\envs\\pyenv\\lib\\site-packages (from requests->transformers) (2.0.4)\n",
      "Requirement already satisfied: idna<4,>=2.5 in c:\\users\\diyas\\miniconda3\\envs\\pyenv\\lib\\site-packages (from requests->transformers) (3.4)\n",
      "Requirement already satisfied: urllib3<3,>=1.21.1 in c:\\users\\diyas\\miniconda3\\envs\\pyenv\\lib\\site-packages (from requests->transformers) (1.26.16)\n",
      "Requirement already satisfied: certifi>=2017.4.17 in c:\\users\\diyas\\miniconda3\\envs\\pyenv\\lib\\site-packages (from requests->transformers) (2023.7.22)\n"
     ]
    }
   ],
   "source": [
    "!pip install pytorch\n",
    "!pip install transformers"
   ]
  },
  {
   "cell_type": "code",
   "execution_count": 2,
   "metadata": {},
   "outputs": [
    {
     "ename": "ImportError",
     "evalue": "cannot import name 'equal_valued' from 'sympy.core.numbers' (c:\\Users\\diyas\\miniconda3\\envs\\pyenv\\Lib\\site-packages\\sympy\\core\\numbers.py)",
     "output_type": "error",
     "traceback": [
      "\u001b[1;31m---------------------------------------------------------------------------\u001b[0m",
      "\u001b[1;31mImportError\u001b[0m                               Traceback (most recent call last)",
      "\u001b[1;32md:\\InterviewPro\\static\\llm.ipynb Cell 2\u001b[0m line \u001b[0;36m1\n\u001b[1;32m----> <a href='vscode-notebook-cell:/d%3A/InterviewPro/static/llm.ipynb#W0sZmlsZQ%3D%3D?line=0'>1</a>\u001b[0m \u001b[39mimport\u001b[39;00m \u001b[39mtorch\u001b[39;00m\n\u001b[0;32m      <a href='vscode-notebook-cell:/d%3A/InterviewPro/static/llm.ipynb#W0sZmlsZQ%3D%3D?line=1'>2</a>\u001b[0m \u001b[39mfrom\u001b[39;00m \u001b[39mtransformers\u001b[39;00m \u001b[39mimport\u001b[39;00m AutoModelForCausalLM, AutoTokenizer\n\u001b[0;32m      <a href='vscode-notebook-cell:/d%3A/InterviewPro/static/llm.ipynb#W0sZmlsZQ%3D%3D?line=3'>4</a>\u001b[0m \u001b[39m# Load the model and tokenizer from the saved path\u001b[39;00m\n",
      "File \u001b[1;32mc:\\Users\\diyas\\miniconda3\\envs\\pyenv\\Lib\\site-packages\\torch\\__init__.py:1504\u001b[0m\n\u001b[0;32m   1499\u001b[0m \u001b[39mfrom\u001b[39;00m \u001b[39mtorch\u001b[39;00m\u001b[39m.\u001b[39;00m\u001b[39mutils\u001b[39;00m\u001b[39m.\u001b[39;00m\u001b[39mdlpack\u001b[39;00m \u001b[39mimport\u001b[39;00m from_dlpack, to_dlpack\n\u001b[0;32m   1501\u001b[0m \u001b[39m# Import experimental masked operations support. See\u001b[39;00m\n\u001b[0;32m   1502\u001b[0m \u001b[39m# [RFC-0016](https://github.com/pytorch/rfcs/pull/27) for more\u001b[39;00m\n\u001b[0;32m   1503\u001b[0m \u001b[39m# information.\u001b[39;00m\n\u001b[1;32m-> 1504\u001b[0m \u001b[39mfrom\u001b[39;00m \u001b[39m.\u001b[39;00m \u001b[39mimport\u001b[39;00m masked\n\u001b[0;32m   1506\u001b[0m \u001b[39m# Import removed ops with error message about removal\u001b[39;00m\n\u001b[0;32m   1507\u001b[0m \u001b[39mfrom\u001b[39;00m \u001b[39m.\u001b[39;00m\u001b[39m_linalg_utils\u001b[39;00m \u001b[39mimport\u001b[39;00m (  \u001b[39m# type: ignore[misc]\u001b[39;00m\n\u001b[0;32m   1508\u001b[0m     matrix_rank,\n\u001b[0;32m   1509\u001b[0m     eig,\n\u001b[0;32m   1510\u001b[0m     solve,\n\u001b[0;32m   1511\u001b[0m     lstsq,\n\u001b[0;32m   1512\u001b[0m )\n",
      "File \u001b[1;32mc:\\Users\\diyas\\miniconda3\\envs\\pyenv\\Lib\\site-packages\\torch\\masked\\__init__.py:3\u001b[0m\n\u001b[0;32m      1\u001b[0m \u001b[39mfrom\u001b[39;00m \u001b[39m.\u001b[39;00m\u001b[39mmaskedtensor\u001b[39;00m\u001b[39m.\u001b[39;00m\u001b[39mcore\u001b[39;00m \u001b[39mimport\u001b[39;00m is_masked_tensor, MaskedTensor\n\u001b[0;32m      2\u001b[0m \u001b[39mfrom\u001b[39;00m \u001b[39m.\u001b[39;00m\u001b[39mmaskedtensor\u001b[39;00m\u001b[39m.\u001b[39;00m\u001b[39mcreation\u001b[39;00m \u001b[39mimport\u001b[39;00m as_masked_tensor, masked_tensor\n\u001b[1;32m----> 3\u001b[0m \u001b[39mfrom\u001b[39;00m \u001b[39m.\u001b[39;00m\u001b[39m_ops\u001b[39;00m \u001b[39mimport\u001b[39;00m (\n\u001b[0;32m      4\u001b[0m     _canonical_dim,\n\u001b[0;32m      5\u001b[0m     _generate_docstring,\n\u001b[0;32m      6\u001b[0m     _reduction_identity,\n\u001b[0;32m      7\u001b[0m     _where,\n\u001b[0;32m      8\u001b[0m     _input_mask,\n\u001b[0;32m      9\u001b[0m     _output_mask,\n\u001b[0;32m     10\u001b[0m     _combine_input_and_mask,\n\u001b[0;32m     11\u001b[0m     \u001b[39msum\u001b[39m,\n\u001b[0;32m     12\u001b[0m     prod,\n\u001b[0;32m     13\u001b[0m     cumsum,\n\u001b[0;32m     14\u001b[0m     cumprod,\n\u001b[0;32m     15\u001b[0m     amax,\n\u001b[0;32m     16\u001b[0m     amin,\n\u001b[0;32m     17\u001b[0m     argmax,\n\u001b[0;32m     18\u001b[0m     argmin,\n\u001b[0;32m     19\u001b[0m     mean,\n\u001b[0;32m     20\u001b[0m     median,\n\u001b[0;32m     21\u001b[0m     logsumexp,\n\u001b[0;32m     22\u001b[0m     logaddexp,\n\u001b[0;32m     23\u001b[0m     norm,\n\u001b[0;32m     24\u001b[0m     var,\n\u001b[0;32m     25\u001b[0m     std,\n\u001b[0;32m     26\u001b[0m     softmax,\n\u001b[0;32m     27\u001b[0m     log_softmax,\n\u001b[0;32m     28\u001b[0m     softmin,\n\u001b[0;32m     29\u001b[0m     normalize,\n\u001b[0;32m     30\u001b[0m )\n\u001b[0;32m     32\u001b[0m __all__ \u001b[39m=\u001b[39m [\n\u001b[0;32m     33\u001b[0m     \u001b[39m\"\u001b[39m\u001b[39mas_masked_tensor\u001b[39m\u001b[39m\"\u001b[39m,\n\u001b[0;32m     34\u001b[0m     \u001b[39m\"\u001b[39m\u001b[39mis_masked_tensor\u001b[39m\u001b[39m\"\u001b[39m,\n\u001b[0;32m     35\u001b[0m     \u001b[39m\"\u001b[39m\u001b[39mmasked_tensor\u001b[39m\u001b[39m\"\u001b[39m,\n\u001b[0;32m     36\u001b[0m     \u001b[39m\"\u001b[39m\u001b[39mMaskedTensor\u001b[39m\u001b[39m\"\u001b[39m,\n\u001b[0;32m     37\u001b[0m ]\n",
      "File \u001b[1;32mc:\\Users\\diyas\\miniconda3\\envs\\pyenv\\Lib\\site-packages\\torch\\masked\\_ops.py:11\u001b[0m\n\u001b[0;32m      9\u001b[0m \u001b[39mfrom\u001b[39;00m \u001b[39mtorch\u001b[39;00m\u001b[39m.\u001b[39;00m\u001b[39mmasked\u001b[39;00m \u001b[39mimport\u001b[39;00m as_masked_tensor, is_masked_tensor, MaskedTensor\n\u001b[0;32m     10\u001b[0m \u001b[39mfrom\u001b[39;00m \u001b[39m.\u001b[39;00m \u001b[39mimport\u001b[39;00m _docs\n\u001b[1;32m---> 11\u001b[0m \u001b[39mfrom\u001b[39;00m \u001b[39mtorch\u001b[39;00m\u001b[39m.\u001b[39;00m\u001b[39m_prims_common\u001b[39;00m \u001b[39mimport\u001b[39;00m corresponding_real_dtype\n\u001b[0;32m     12\u001b[0m \u001b[39mfrom\u001b[39;00m \u001b[39mtorch\u001b[39;00m \u001b[39mimport\u001b[39;00m sym_float\n\u001b[0;32m     14\u001b[0m \u001b[39mif\u001b[39;00m TYPE_CHECKING:\n",
      "File \u001b[1;32mc:\\Users\\diyas\\miniconda3\\envs\\pyenv\\Lib\\site-packages\\torch\\_prims_common\\__init__.py:23\u001b[0m\n\u001b[0;32m      9\u001b[0m \u001b[39mfrom\u001b[39;00m \u001b[39mfunctools\u001b[39;00m \u001b[39mimport\u001b[39;00m cmp_to_key, reduce\n\u001b[0;32m     10\u001b[0m \u001b[39mfrom\u001b[39;00m \u001b[39mtyping\u001b[39;00m \u001b[39mimport\u001b[39;00m (\n\u001b[0;32m     11\u001b[0m     Any,\n\u001b[0;32m     12\u001b[0m     Callable,\n\u001b[1;32m   (...)\u001b[0m\n\u001b[0;32m     20\u001b[0m     Union,\n\u001b[0;32m     21\u001b[0m )\n\u001b[1;32m---> 23\u001b[0m \u001b[39mimport\u001b[39;00m \u001b[39msympy\u001b[39;00m\n\u001b[0;32m     25\u001b[0m \u001b[39mimport\u001b[39;00m \u001b[39mtorch\u001b[39;00m\n\u001b[0;32m     26\u001b[0m \u001b[39mfrom\u001b[39;00m \u001b[39mtorch\u001b[39;00m \u001b[39mimport\u001b[39;00m sym_float, sym_int, sym_max\n",
      "File \u001b[1;32mc:\\Users\\diyas\\miniconda3\\envs\\pyenv\\Lib\\site-packages\\sympy\\__init__.py:73\u001b[0m\n\u001b[0;32m     66\u001b[0m \u001b[39mfrom\u001b[39;00m \u001b[39m.\u001b[39;00m\u001b[39mlogic\u001b[39;00m \u001b[39mimport\u001b[39;00m (to_cnf, to_dnf, to_nnf, And, Or, Not, Xor, Nand, Nor,\n\u001b[0;32m     67\u001b[0m         Implies, Equivalent, ITE, POSform, SOPform, simplify_logic, bool_map,\n\u001b[0;32m     68\u001b[0m         true, false, satisfiable)\n\u001b[0;32m     70\u001b[0m \u001b[39mfrom\u001b[39;00m \u001b[39m.\u001b[39;00m\u001b[39massumptions\u001b[39;00m \u001b[39mimport\u001b[39;00m (AppliedPredicate, Predicate, AssumptionsContext,\n\u001b[0;32m     71\u001b[0m         assuming, Q, ask, register_handler, remove_handler, refine)\n\u001b[1;32m---> 73\u001b[0m \u001b[39mfrom\u001b[39;00m \u001b[39m.\u001b[39;00m\u001b[39mpolys\u001b[39;00m \u001b[39mimport\u001b[39;00m (Poly, PurePoly, poly_from_expr, parallel_poly_from_expr,\n\u001b[0;32m     74\u001b[0m         degree, total_degree, degree_list, LC, LM, LT, pdiv, prem, pquo,\n\u001b[0;32m     75\u001b[0m         pexquo, div, rem, quo, exquo, half_gcdex, gcdex, invert,\n\u001b[0;32m     76\u001b[0m         subresultants, resultant, discriminant, cofactors, gcd_list, gcd,\n\u001b[0;32m     77\u001b[0m         lcm_list, lcm, terms_gcd, trunc, monic, content, primitive, compose,\n\u001b[0;32m     78\u001b[0m         decompose, sturm, gff_list, gff, sqf_norm, sqf_part, sqf_list, sqf,\n\u001b[0;32m     79\u001b[0m         factor_list, factor, intervals, refine_root, count_roots, real_roots,\n\u001b[0;32m     80\u001b[0m         nroots, ground_roots, nth_power_roots_poly, cancel, reduced, groebner,\n\u001b[0;32m     81\u001b[0m         is_zero_dimensional, GroebnerBasis, poly, symmetrize, horner,\n\u001b[0;32m     82\u001b[0m         interpolate, rational_interpolate, viete, together,\n\u001b[0;32m     83\u001b[0m         BasePolynomialError, ExactQuotientFailed, PolynomialDivisionFailed,\n\u001b[0;32m     84\u001b[0m         OperationNotSupported, HeuristicGCDFailed, HomomorphismFailed,\n\u001b[0;32m     85\u001b[0m         IsomorphismFailed, ExtraneousFactors, EvaluationFailed,\n\u001b[0;32m     86\u001b[0m         RefinementFailed, CoercionFailed, NotInvertible, NotReversible,\n\u001b[0;32m     87\u001b[0m         NotAlgebraic, DomainError, PolynomialError, UnificationFailed,\n\u001b[0;32m     88\u001b[0m         GeneratorsError, GeneratorsNeeded, ComputationFailed,\n\u001b[0;32m     89\u001b[0m         UnivariatePolynomialError, MultivariatePolynomialError,\n\u001b[0;32m     90\u001b[0m         PolificationFailed, OptionError, FlagError, minpoly,\n\u001b[0;32m     91\u001b[0m         minimal_polynomial, primitive_element, field_isomorphism,\n\u001b[0;32m     92\u001b[0m         to_number_field, isolate, round_two, prime_decomp, prime_valuation,\n\u001b[0;32m     93\u001b[0m         itermonomials, Monomial, lex, grlex,\n\u001b[0;32m     94\u001b[0m         grevlex, ilex, igrlex, igrevlex, CRootOf, rootof, RootOf,\n\u001b[0;32m     95\u001b[0m         ComplexRootOf, RootSum, roots, Domain, FiniteField, IntegerRing,\n\u001b[0;32m     96\u001b[0m         RationalField, RealField, ComplexField, PythonFiniteField,\n\u001b[0;32m     97\u001b[0m         GMPYFiniteField, PythonIntegerRing, GMPYIntegerRing, PythonRational,\n\u001b[0;32m     98\u001b[0m         GMPYRationalField, AlgebraicField, PolynomialRing, FractionField,\n\u001b[0;32m     99\u001b[0m         ExpressionDomain, FF_python, FF_gmpy, ZZ_python, ZZ_gmpy, QQ_python,\n\u001b[0;32m    100\u001b[0m         QQ_gmpy, GF, FF, ZZ, QQ, ZZ_I, QQ_I, RR, CC, EX, EXRAW,\n\u001b[0;32m    101\u001b[0m         construct_domain, swinnerton_dyer_poly, cyclotomic_poly,\n\u001b[0;32m    102\u001b[0m         symmetric_poly, random_poly, interpolating_poly, jacobi_poly,\n\u001b[0;32m    103\u001b[0m         chebyshevt_poly, chebyshevu_poly, hermite_poly, legendre_poly,\n\u001b[0;32m    104\u001b[0m         laguerre_poly, apart, apart_list, assemble_partfrac_list, Options,\n\u001b[0;32m    105\u001b[0m         ring, xring, vring, sring, field, xfield, vfield, sfield)\n\u001b[0;32m    107\u001b[0m \u001b[39mfrom\u001b[39;00m \u001b[39m.\u001b[39;00m\u001b[39mseries\u001b[39;00m \u001b[39mimport\u001b[39;00m (Order, O, limit, Limit, gruntz, series, approximants,\n\u001b[0;32m    108\u001b[0m         residue, EmptySequence, SeqPer, SeqFormula, sequence, SeqAdd, SeqMul,\n\u001b[0;32m    109\u001b[0m         fourier_series, fps, difference_delta, limit_seq)\n\u001b[0;32m    111\u001b[0m \u001b[39mfrom\u001b[39;00m \u001b[39m.\u001b[39;00m\u001b[39mfunctions\u001b[39;00m \u001b[39mimport\u001b[39;00m (factorial, factorial2, rf, ff, binomial,\n\u001b[0;32m    112\u001b[0m         RisingFactorial, FallingFactorial, subfactorial, carmichael,\n\u001b[0;32m    113\u001b[0m         fibonacci, lucas, motzkin, tribonacci, harmonic, bernoulli, bell, euler,\n\u001b[1;32m   (...)\u001b[0m\n\u001b[0;32m    132\u001b[0m         Znm, elliptic_k, elliptic_f, elliptic_e, elliptic_pi, beta, mathieus,\n\u001b[0;32m    133\u001b[0m         mathieuc, mathieusprime, mathieucprime, riemann_xi, betainc, betainc_regularized)\n",
      "File \u001b[1;32mc:\\Users\\diyas\\miniconda3\\envs\\pyenv\\Lib\\site-packages\\sympy\\polys\\__init__.py:68\u001b[0m\n\u001b[0;32m      1\u001b[0m \u001b[39m\"\"\"Polynomial manipulation algorithms and algebraic objects. \"\"\"\u001b[39;00m\n\u001b[0;32m      3\u001b[0m __all__ \u001b[39m=\u001b[39m [\n\u001b[0;32m      4\u001b[0m     \u001b[39m'\u001b[39m\u001b[39mPoly\u001b[39m\u001b[39m'\u001b[39m, \u001b[39m'\u001b[39m\u001b[39mPurePoly\u001b[39m\u001b[39m'\u001b[39m, \u001b[39m'\u001b[39m\u001b[39mpoly_from_expr\u001b[39m\u001b[39m'\u001b[39m, \u001b[39m'\u001b[39m\u001b[39mparallel_poly_from_expr\u001b[39m\u001b[39m'\u001b[39m, \u001b[39m'\u001b[39m\u001b[39mdegree\u001b[39m\u001b[39m'\u001b[39m,\n\u001b[0;32m      5\u001b[0m     \u001b[39m'\u001b[39m\u001b[39mtotal_degree\u001b[39m\u001b[39m'\u001b[39m, \u001b[39m'\u001b[39m\u001b[39mdegree_list\u001b[39m\u001b[39m'\u001b[39m, \u001b[39m'\u001b[39m\u001b[39mLC\u001b[39m\u001b[39m'\u001b[39m, \u001b[39m'\u001b[39m\u001b[39mLM\u001b[39m\u001b[39m'\u001b[39m, \u001b[39m'\u001b[39m\u001b[39mLT\u001b[39m\u001b[39m'\u001b[39m, \u001b[39m'\u001b[39m\u001b[39mpdiv\u001b[39m\u001b[39m'\u001b[39m, \u001b[39m'\u001b[39m\u001b[39mprem\u001b[39m\u001b[39m'\u001b[39m, \u001b[39m'\u001b[39m\u001b[39mpquo\u001b[39m\u001b[39m'\u001b[39m,\n\u001b[1;32m   (...)\u001b[0m\n\u001b[0;32m     65\u001b[0m     \u001b[39m'\u001b[39m\u001b[39mfield\u001b[39m\u001b[39m'\u001b[39m, \u001b[39m'\u001b[39m\u001b[39mxfield\u001b[39m\u001b[39m'\u001b[39m, \u001b[39m'\u001b[39m\u001b[39mvfield\u001b[39m\u001b[39m'\u001b[39m, \u001b[39m'\u001b[39m\u001b[39msfield\u001b[39m\u001b[39m'\u001b[39m\n\u001b[0;32m     66\u001b[0m ]\n\u001b[1;32m---> 68\u001b[0m \u001b[39mfrom\u001b[39;00m \u001b[39m.\u001b[39;00m\u001b[39mpolytools\u001b[39;00m \u001b[39mimport\u001b[39;00m (Poly, PurePoly, poly_from_expr,\n\u001b[0;32m     69\u001b[0m         parallel_poly_from_expr, degree, total_degree, degree_list, LC, LM,\n\u001b[0;32m     70\u001b[0m         LT, pdiv, prem, pquo, pexquo, div, rem, quo, exquo, half_gcdex, gcdex,\n\u001b[0;32m     71\u001b[0m         invert, subresultants, resultant, discriminant, cofactors, gcd_list,\n\u001b[0;32m     72\u001b[0m         gcd, lcm_list, lcm, terms_gcd, trunc, monic, content, primitive,\n\u001b[0;32m     73\u001b[0m         compose, decompose, sturm, gff_list, gff, sqf_norm, sqf_part,\n\u001b[0;32m     74\u001b[0m         sqf_list, sqf, factor_list, factor, intervals, refine_root,\n\u001b[0;32m     75\u001b[0m         count_roots, real_roots, nroots, ground_roots, nth_power_roots_poly,\n\u001b[0;32m     76\u001b[0m         cancel, reduced, groebner, is_zero_dimensional, GroebnerBasis, poly)\n\u001b[0;32m     78\u001b[0m \u001b[39mfrom\u001b[39;00m \u001b[39m.\u001b[39;00m\u001b[39mpolyfuncs\u001b[39;00m \u001b[39mimport\u001b[39;00m (symmetrize, horner, interpolate,\n\u001b[0;32m     79\u001b[0m         rational_interpolate, viete)\n\u001b[0;32m     81\u001b[0m \u001b[39mfrom\u001b[39;00m \u001b[39m.\u001b[39;00m\u001b[39mrationaltools\u001b[39;00m \u001b[39mimport\u001b[39;00m together\n",
      "File \u001b[1;32mc:\\Users\\diyas\\miniconda3\\envs\\pyenv\\Lib\\site-packages\\sympy\\polys\\polytools.py:18\u001b[0m\n\u001b[0;32m     16\u001b[0m \u001b[39mfrom\u001b[39;00m \u001b[39msympy\u001b[39;00m\u001b[39m.\u001b[39;00m\u001b[39mcore\u001b[39;00m\u001b[39m.\u001b[39;00m\u001b[39mfunction\u001b[39;00m \u001b[39mimport\u001b[39;00m Derivative\n\u001b[0;32m     17\u001b[0m \u001b[39mfrom\u001b[39;00m \u001b[39msympy\u001b[39;00m\u001b[39m.\u001b[39;00m\u001b[39mcore\u001b[39;00m\u001b[39m.\u001b[39;00m\u001b[39mmul\u001b[39;00m \u001b[39mimport\u001b[39;00m Mul, _keep_coeff\n\u001b[1;32m---> 18\u001b[0m \u001b[39mfrom\u001b[39;00m \u001b[39msympy\u001b[39;00m\u001b[39m.\u001b[39;00m\u001b[39mcore\u001b[39;00m\u001b[39m.\u001b[39;00m\u001b[39mnumbers\u001b[39;00m \u001b[39mimport\u001b[39;00m ilcm, I, Integer, equal_valued\n\u001b[0;32m     19\u001b[0m \u001b[39mfrom\u001b[39;00m \u001b[39msympy\u001b[39;00m\u001b[39m.\u001b[39;00m\u001b[39mcore\u001b[39;00m\u001b[39m.\u001b[39;00m\u001b[39mrelational\u001b[39;00m \u001b[39mimport\u001b[39;00m Relational, Equality\n\u001b[0;32m     20\u001b[0m \u001b[39mfrom\u001b[39;00m \u001b[39msympy\u001b[39;00m\u001b[39m.\u001b[39;00m\u001b[39mcore\u001b[39;00m\u001b[39m.\u001b[39;00m\u001b[39msorting\u001b[39;00m \u001b[39mimport\u001b[39;00m ordered\n",
      "\u001b[1;31mImportError\u001b[0m: cannot import name 'equal_valued' from 'sympy.core.numbers' (c:\\Users\\diyas\\miniconda3\\envs\\pyenv\\Lib\\site-packages\\sympy\\core\\numbers.py)"
     ]
    }
   ],
   "source": [
    "import torch\n",
    "from transformers import AutoModelForCausalLM, AutoTokenizer\n",
    "\n",
    "# Load the model and tokenizer from the saved path\n",
    "model = AutoModelForCausalLM.from_pretrained(\"D:\\InterviewPro\\static\\llama-2-7b-chat-hf\\tokenizer.model\")\n",
    "tokenizer = AutoTokenizer.from_pretrained(\"D:\\InterviewPro\\static\\llama-2-7b-chat-hf\\\\tokenizer.json\")\n",
    "\n",
    "# Set the prompt\n",
    "prompt = \"What is the largest animal?\"\n",
    "\n",
    "# Generate the text\n",
    "generation_output = model.generate(input_ids=tokenizer(prompt, return_tensors=\"pt\").input_ids, max_new_tokens=32)\n",
    "\n",
    "# Decode the text\n",
    "decoded_text = tokenizer.decode(generation_output[0])\n",
    "\n",
    "# Print the result\n",
    "print(decoded_text)"
   ]
  },
  {
   "cell_type": "code",
   "execution_count": null,
   "metadata": {},
   "outputs": [],
   "source": []
  }
 ],
 "metadata": {
  "kernelspec": {
   "display_name": "pyenv",
   "language": "python",
   "name": "python3"
  },
  "language_info": {
   "codemirror_mode": {
    "name": "ipython",
    "version": 3
   },
   "file_extension": ".py",
   "mimetype": "text/x-python",
   "name": "python",
   "nbconvert_exporter": "python",
   "pygments_lexer": "ipython3",
   "version": "3.11.5"
  }
 },
 "nbformat": 4,
 "nbformat_minor": 2
}
